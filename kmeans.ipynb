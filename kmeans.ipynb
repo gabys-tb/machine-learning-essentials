{
  "nbformat": 4,
  "nbformat_minor": 0,
  "metadata": {
    "colab": {
      "provenance": []
    },
    "kernelspec": {
      "name": "python3",
      "display_name": "Python 3"
    },
    "language_info": {
      "name": "python"
    }
  },
  "cells": [
    {
      "cell_type": "markdown",
      "source": [
        "Implementing the K-Means Algorithm from scratch."
      ],
      "metadata": {
        "id": "8839CyCvjGQj"
      }
    },
    {
      "cell_type": "code",
      "execution_count": 1,
      "metadata": {
        "id": "4JSekpl6oGKe"
      },
      "outputs": [],
      "source": [
        "import numpy as np\n",
        "import random\n",
        "import matplotlib.pyplot as plt\n",
        "from sklearn.cluster import KMeans"
      ]
    },
    {
      "cell_type": "markdown",
      "source": [
        "Auxiliary functions:"
      ],
      "metadata": {
        "id": "jNEuGomQj-Xh"
      }
    },
    {
      "cell_type": "code",
      "source": [
        "def distance(point:tuple[float, float], centroid:tuple[float,float]) -> int:\n",
        "  '''\n",
        "  Calculates distance between 2D points.\n",
        "  '''\n",
        "  return np.sqrt((point[0] - centroid[0])**2 + (point[1] - centroid[1])**2)\n",
        "\n",
        "def generate_points(k:int, min:int, max:int) ->list[tuple[int, int]]:\n",
        "  '''\n",
        "  Generates a list of k points, between min-max range.\n",
        "  '''\n",
        "  return [(random.uniform(min, max), random.uniform(min,max)) for _ in range(k)]\n",
        "\n",
        "def compare_centroids(old_centroids:list[set[tuple[float, float]]], new_centroids:list[set[tuple[float, float]]]) -> bool:\n",
        "  '''\n",
        "  Returns True when the centroids estabilizes.\n",
        "  '''\n",
        "  for i in range(len(old_centroids)):\n",
        "    if distance(new_centroids[i], old_centroids[i]) > 10**-7:\n",
        "      return False\n",
        "  return True\n"
      ],
      "metadata": {
        "id": "J_HABUhYujY1"
      },
      "execution_count": 2,
      "outputs": []
    },
    {
      "cell_type": "markdown",
      "source": [
        "Algorithm:"
      ],
      "metadata": {
        "id": "0oZBe1uEkEqS"
      }
    },
    {
      "cell_type": "code",
      "source": [
        "def kmeans(points:list[tuple[float, float]], k:int, min:int, max:int) -> (list[tuple[float, float]], list[set[tuple[float, float]]]):\n",
        "  centroids = generate_points(k, min, max)\n",
        "\n",
        "  # each set contains the points attributed to the ith centroid\n",
        "  attr_points = [set() for _ in range(k)]\n",
        "\n",
        "  count = 0\n",
        "  while (count < 1000) :\n",
        "    for p in points:\n",
        "      min = float('inf')\n",
        "      for j in range(k):\n",
        "        d = distance(p, centroids[j])\n",
        "        if d < min:\n",
        "          min = d\n",
        "          closest_j = j\n",
        "      attr_points[closest_j].add(p)\n",
        "\n",
        "    old_centroids = centroids\n",
        "\n",
        "    for i in range(k):\n",
        "      try:\n",
        "        mean_x = sum(x for x, _ in attr_points[i])/len(attr_points[i])\n",
        "        mean_y = sum(y for _, y in attr_points[i])/len(attr_points[i])\n",
        "\n",
        "        centroids[i] = (mean_x, mean_y)\n",
        "      except ZeroDivisionError:\n",
        "        centroids[i] = old_centroids[i]\n",
        "\n",
        "    count = count + 1 and count < 1000\n",
        "    if ~count:\n",
        "      return centroids, attr_points\n",
        "\n",
        "    for i in range(k):\n",
        "      attr_points[i].clear()\n",
        "  return centroids, attr_points"
      ],
      "metadata": {
        "id": "U6sM5rSFtAY5"
      },
      "execution_count": 3,
      "outputs": []
    },
    {
      "cell_type": "markdown",
      "source": [
        "Running:"
      ],
      "metadata": {
        "id": "mIUq7Oz5kkD0"
      }
    },
    {
      "cell_type": "code",
      "source": [
        "random.seed(26)\n",
        "\n",
        "# generating a hundred points randomly\n",
        "points = generate_points(100, 0, 20)\n",
        "\n",
        "# clustering\n",
        "k_centroids, clusters = kmeans(points, 2, 0, 20)"
      ],
      "metadata": {
        "id": "AS6MIqXlxInq"
      },
      "execution_count": 4,
      "outputs": []
    },
    {
      "cell_type": "markdown",
      "source": [
        "Testing the implementation by comparing with the KMeans from sklearn."
      ],
      "metadata": {
        "id": "dl0v5Zpsk0EN"
      }
    },
    {
      "cell_type": "code",
      "source": [
        "kmeans= KMeans(n_clusters=2)\n",
        "\n",
        "# training\n",
        "kmeans.fit(points)\n",
        "\n",
        "# obtaining labels\n",
        "sklearn_labels = kmeans.labels_\n",
        "\n",
        "# centroids\n",
        "sklearn_centroids = kmeans.cluster_centers_\n"
      ],
      "metadata": {
        "id": "tAOcpnvR_RHK"
      },
      "execution_count": 5,
      "outputs": []
    },
    {
      "cell_type": "code",
      "source": [
        "# plotting both results for comparison\n",
        "\n",
        "fig, axes = plt.subplots(nrows=1, ncols=2, figsize=(10,4))\n",
        "\n",
        "x_centroids = [x for x,_ in k_centroids]\n",
        "y_centroids = [y for _,y in k_centroids]\n",
        "\n",
        "for k_points in clusters:\n",
        "  x_points = [x for x,_ in k_points]\n",
        "  y_points = [y for _,y in k_points]\n",
        "  axes[0].scatter(x_points, y_points)\n",
        "axes[0].set_title('My K-Means')\n",
        "axes[0].set_xlabel('x')\n",
        "axes[0].set_ylabel('y')\n",
        "\n",
        "axes[0].scatter(x_centroids, y_centroids, color='red')\n",
        "\n",
        "for i in range(2):\n",
        "    points_array = np.array(points)[sklearn_labels == i]\n",
        "    axes[1].scatter(points_array[:, 0], points_array[:, 1])\n",
        "\n",
        "# Plotando os centroides\n",
        "axes[1].scatter(sklearn_centroids[:, 0], sklearn_centroids[:, 1], color='red', label='Centroides')\n",
        "\n",
        "axes[1].set_title('K-Means from sklearn')\n",
        "axes[1].set_xlabel('x')\n",
        "axes[1].set_ylabel('y')\n",
        "plt.show()"
      ],
      "metadata": {
        "colab": {
          "base_uri": "https://localhost:8080/",
          "height": 410
        },
        "id": "tUUQV1JAlvpI",
        "outputId": "fd7dcdf2-081f-46d4-8f8b-a3746f0f5eb1"
      },
      "execution_count": 6,
      "outputs": [
        {
          "output_type": "display_data",
          "data": {
            "text/plain": [
              "<Figure size 1000x400 with 2 Axes>"
            ],
            "image/png": "[encoded data removed]"
          },
          "metadata": {}
        }
      ]
    },
    {
      "cell_type": "code",
      "source": [],
      "metadata": {
        "id": "lLgOXeHAlm4Q"
      },
      "execution_count": 6,
      "outputs": []
    }
  ]
}