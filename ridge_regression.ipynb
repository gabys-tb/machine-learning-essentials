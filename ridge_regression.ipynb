{
 "cells": [
  {
   "cell_type": "markdown",
   "metadata": {
    "id": "FhCh5ptrfbkQ"
   },
   "source": [
    "Ridge Regression"
   ]
  },
  {
   "cell_type": "code",
   "execution_count": 1,
   "metadata": {
    "executionInfo": {
     "elapsed": 4417,
     "status": "ok",
     "timestamp": 1742929838480,
     "user": {
      "displayName": "Gabriela T. Barreto",
      "userId": "08286699895868133847"
     },
     "user_tz": 180
    },
    "id": "Q-waE-jthMHG"
   },
   "outputs": [],
   "source": [
    "import numpy as np\n",
    "import matplotlib.pyplot as plt\n",
    "from sklearn.datasets import load_diabetes\n",
    "from sklearn.linear_model import Ridge\n",
    "from sklearn.model_selection import KFold\n",
    "from sklearn.metrics import mean_squared_error as MSE"
   ]
  },
  {
   "cell_type": "markdown",
   "metadata": {
    "id": "1Sn4qb8uwmh6"
   },
   "source": [
    "Implementation"
   ]
  },
  {
   "cell_type": "code",
   "execution_count": 2,
   "metadata": {
    "executionInfo": {
     "elapsed": 9,
     "status": "ok",
     "timestamp": 1742929838500,
     "user": {
      "displayName": "Gabriela T. Barreto",
      "userId": "08286699895868133847"
     },
     "user_tz": 180
    },
    "id": "qQKGDamnffw-"
   },
   "outputs": [],
   "source": [
    "def add_b0_coef(X: np.ndarray) -> np.ndarray:\n",
    "  '''\n",
    "  Adds a column for intercept calculation.\n",
    "  '''\n",
    "  ones = np.ones((X.shape[0], 1))\n",
    "  return np.hstack((ones, X))\n",
    "\n",
    "def ridge_regression(X: np.ndarray, Y: np.ndarray, alpha: float) -> np.ndarray:\n",
    "  '''\n",
    "  Calculates the coefficients for regression.\n",
    "  '''\n",
    "  return np.linalg.inv(X.T @ X + alpha * np.eye(X.shape[1])) @ X.T @ Y\n",
    "\n",
    "def predict(X: np.ndarray, B: np.ndarray) -> np.ndarray:\n",
    "  '''\n",
    "  Predicts target values.\n",
    "  '''\n",
    "  return X @ B\n",
    "\n",
    "def mean_squared_error(Y_pred: np.ndarray, Y: np.ndarray) -> np.ndarray:\n",
    "  '''\n",
    "  Calculates the Mean Squared Error.\n",
    "  '''\n",
    "  return sum((Y - Y_pred)**2)/len(Y)\n",
    "\n",
    "def ridge_cost(Y_pred: np.ndarray, Y: np.ndarray, alpha: float, beta: np.ndarray) -> float:\n",
    "  '''\n",
    "  Calculate cost function for Ridge Regression.\n",
    "  '''\n",
    "  mse = mean_squared_error(Y_pred, Y)\n",
    "\n",
    "  return mse +  alpha * sum(beta**2)\n",
    "\n",
    "def R_squared(Y: np.ndarray, Y_pred: np.ndarray) -> np.ndarray:\n",
    "  '''\n",
    "  Calculate the coefficent of determination.\n",
    "  '''\n",
    "  nominator = sum(Y - Y_pred)**2\n",
    "  denominator = sum(Y - np.mean(Y, axis=0))\n",
    "\n",
    "  return 1 - nominator/denominator\n"
   ]
  },
  {
   "cell_type": "markdown",
   "metadata": {
    "id": "Jzn8Z0bPwsbx"
   },
   "source": [
    "Testing implementation on the sklearn diabetes dataset.\n"
   ]
  },
  {
   "cell_type": "code",
   "execution_count": 3,
   "metadata": {
    "executionInfo": {
     "elapsed": 69,
     "status": "ok",
     "timestamp": 1742929838570,
     "user": {
      "displayName": "Gabriela T. Barreto",
      "userId": "08286699895868133847"
     },
     "user_tz": 180
    },
    "id": "rSm3mp9ehNxd"
   },
   "outputs": [],
   "source": [
    "data = load_diabetes()"
   ]
  },
  {
   "cell_type": "code",
   "execution_count": 4,
   "metadata": {
    "executionInfo": {
     "elapsed": 42,
     "status": "ok",
     "timestamp": 1742929838614,
     "user": {
      "displayName": "Gabriela T. Barreto",
      "userId": "08286699895868133847"
     },
     "user_tz": 180
    },
    "id": "8nl6jEStkJp2"
   },
   "outputs": [],
   "source": [
    "# add a column of ones\n",
    "X = add_b0_coef(data.data)\n",
    "\n",
    "# calculate solution\n",
    "B = ridge_regression(X, data.target, 0.1)\n",
    "\n",
    "# get predictions\n",
    "Y_pred = predict(X, B)\n",
    "\n",
    "# get evaluation metrics\n",
    "my_cost = ridge_cost(Y_pred, data.target, 0.1, B)\n",
    "my_mse = mean_squared_error(Y_pred, data.target)\n",
    "my_r_squared = R_squared(data.target, Y_pred)"
   ]
  },
  {
   "cell_type": "markdown",
   "metadata": {
    "id": "R87hPgNdxrTx"
   },
   "source": [
    "Now, testing the regression with the default sklearn Ridge Regression, for comparison."
   ]
  },
  {
   "cell_type": "code",
   "execution_count": 5,
   "metadata": {
    "executionInfo": {
     "elapsed": 89,
     "status": "ok",
     "timestamp": 1742929838709,
     "user": {
      "displayName": "Gabriela T. Barreto",
      "userId": "08286699895868133847"
     },
     "user_tz": 180
    },
    "id": "-4-4DQadmOke"
   },
   "outputs": [],
   "source": [
    "# instantiate model\n",
    "model = Ridge(alpha=0.1)\n",
    "\n",
    "# get solution\n",
    "model.fit(X, data.target)\n",
    "\n",
    "# get predictions\n",
    "y_pred = model.predict(X)\n",
    "\n",
    "# obtain metrics\n",
    "mse = MSE(data.target, y_pred)\n",
    "r_squared = R_squared(data.target, y_pred)"
   ]
  },
  {
   "cell_type": "markdown",
   "metadata": {
    "id": "dk0XQpUiyBYM"
   },
   "source": [
    "Finally, comparing results."
   ]
  },
  {
   "cell_type": "code",
   "execution_count": null,
   "metadata": {
    "colab": {
     "base_uri": "https://localhost:8080/"
    },
    "executionInfo": {
     "elapsed": 19,
     "status": "ok",
     "timestamp": 1742929838720,
     "user": {
      "displayName": "Gabriela T. Barreto",
      "userId": "08286699895868133847"
     },
     "user_tz": 180
    },
    "id": "gJaiMCjist_t",
    "outputId": "cc9891c9-addd-42ce-f411-5c06482a77c0"
   },
   "outputs": [
    {
     "name": "stdout",
     "output_type": "stream",
     "text": [
      "My MSE: 2890.45, sklearn MSE: 2890.45\n",
      "My Intercept: 152.10, sklearn Intercept: 152.13\n",
      "My Coefficients: ['1.31', '-207.19', '489.70', '301.76', '-83.47', '-70.83', '-188.68', '115.71', '443.81', '86.75'], \n",
      "sklearn Coefficients: ['1.31', '-207.19', '489.70', '301.76', '-83.47', '-70.83', '-188.68', '115.71', '443.81', '86.75']\n"
     ]
    }
   ],
   "source": [
    "print(f'My MSE: {my_mse:.2f}, sklearn MSE: {mse:.2f}')\n",
    "print(f'My Intercept: {B[0]:.2f}, sklearn Intercept: {model.intercept_:.2f}')\n",
    "formatted= [f'{c:.2f}' for c in model.coef_[1:]]\n",
    "my_formatted = [f'{c:.2f}' for c in B[1:]]\n",
    "print(f'My Coefficients: {my_formatted}, \\nsklearn Coefficients: {formatted}')"
   ]
  },
  {
   "cell_type": "markdown",
   "metadata": {
    "id": "QJpvE0ynQozj"
   },
   "source": [
    "Now, executing a K-Fold train/test in search of the best possible value for the regularization factor $\\alpha$."
   ]
  },
  {
   "cell_type": "code",
   "execution_count": 14,
   "metadata": {
    "executionInfo": {
     "elapsed": 111,
     "status": "ok",
     "timestamp": 1742930052546,
     "user": {
      "displayName": "Gabriela T. Barreto",
      "userId": "08286699895868133847"
     },
     "user_tz": 180
    },
    "id": "AfJJjPzUjzrN"
   },
   "outputs": [],
   "source": [
    "# target values\n",
    "Y = data.target\n",
    "\n",
    "# alphas to test\n",
    "possible_alphas = np.arange(0.0000, 0.006, 0.0002)\n",
    "\n",
    "# testing\n",
    "mean_mse_list = []\n",
    "mean_cost_list = []\n",
    "kf = KFold(n_splits=5, shuffle=True, random_state=26)\n",
    "for alpha in possible_alphas:\n",
    "  mse_list = []\n",
    "  cost_list = []\n",
    "  for train_index, test_index in kf.split(X):\n",
    "    # separate train/test split\n",
    "    X_train = X[train_index]\n",
    "    Y_train = Y[train_index]\n",
    "\n",
    "    X_test = X[test_index]\n",
    "    Y_test = Y[test_index]\n",
    "\n",
    "    # calculate solution\n",
    "    B = ridge_regression(X_train, Y_train, alpha)\n",
    "\n",
    "    # get predictions\n",
    "    Y_pred = predict(X_test, B)\n",
    "\n",
    "    # get metrics\n",
    "    cost = ridge_cost(Y_pred, Y_test, alpha, B)\n",
    "    mse = mean_squared_error(Y_pred, Y_test)\n",
    "\n",
    "    mse_list.append(mse)\n",
    "    cost_list.append(cost)\n",
    "\n",
    "  # get mean of all folds\n",
    "  mean_mse_list.append(np.mean(mse_list))\n",
    "  mean_cost_list.append(np.mean(cost_list))"
   ]
  },
  {
   "cell_type": "code",
   "execution_count": 15,
   "metadata": {
    "colab": {
     "base_uri": "https://localhost:8080/",
     "height": 410
    },
    "executionInfo": {
     "elapsed": 377,
     "status": "ok",
     "timestamp": 1742930053594,
     "user": {
      "displayName": "Gabriela T. Barreto",
      "userId": "08286699895868133847"
     },
     "user_tz": 180
    },
    "id": "9ZG1tFqmj-eA",
    "outputId": "5add513e-92ba-45b4-acc2-d2a36bdda463"
   },
   "outputs": [
    {
     "data": {
      "image/png": "[encoded data removed]",
      "text/plain": [
       "<Figure size 1000x400 with 2 Axes>"
      ]
     },
     "metadata": {},
     "output_type": "display_data"
    }
   ],
   "source": [
    "# plot results\n",
    "fig, axes = plt.subplots(1, 2, figsize=(10,4))\n",
    "\n",
    "axes[0].scatter(possible_alphas, np.sqrt(mean_mse_list), c='r', s=10)\n",
    "axes[0].set_xlabel('Alphas')\n",
    "axes[0].set_ylabel('RMSE')\n",
    "axes[0].set_title('Alphas x RMSE')\n",
    "\n",
    "\n",
    "axes[1].scatter(possible_alphas, np.log(mean_cost_list), c='g', s=10)\n",
    "axes[1].set_xlabel('Alphas')\n",
    "axes[1].set_ylabel('Cost Function')\n",
    "axes[1].set_title('Alphas x Cost Function')\n",
    "\n",
    "plt.show()"
   ]
  },
  {
   "cell_type": "markdown",
   "metadata": {
    "id": "9G-Lf0xKtwm-"
   },
   "source": [
    "The best alpha is $0.0018$."
   ]
  }
 ],
 "metadata": {
  "colab": {
   "authorship_tag": "ABX9TyMG1ha6vFU35nG9GoQYS0fH",
   "provenance": []
  },
  "kernelspec": {
   "display_name": "Python 3",
   "name": "python3"
  },
  "language_info": {
   "name": "python"
  }
 },
 "nbformat": 4,
 "nbformat_minor": 0
}
